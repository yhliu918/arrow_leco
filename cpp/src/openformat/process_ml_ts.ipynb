{
 "cells": [
  {
   "cell_type": "code",
   "execution_count": 2,
   "metadata": {},
   "outputs": [
    {
     "name": "stdout",
     "output_type": "stream",
     "text": [
      "/root/arrow-private/cpp/Learn-to-Compress/data\n"
     ]
    }
   ],
   "source": [
    "import pandas as pd\n",
    "import os\n",
    "import numpy as np\n",
    "\n",
    "os.chdir('/root/arrow-private/cpp/Learn-to-Compress/data')\n",
    "print(os.getcwd())\n",
    "df = pd.read_csv('./ml_timestamp.csv', header=None)"
   ]
  },
  {
   "cell_type": "code",
   "execution_count": 3,
   "metadata": {},
   "outputs": [],
   "source": [
    "data = df.to_numpy().flatten().astype('uint64')"
   ]
  },
  {
   "cell_type": "code",
   "execution_count": 9,
   "metadata": {},
   "outputs": [
    {
     "name": "stdout",
     "output_type": "stream",
     "text": [
      "[1493733882409 1493733882455 1493733882500 ... 1493829248245 1493829248270\n",
      " 1493829248294]\n",
      "1493829248294\n",
      "1493829248324.0\n"
     ]
    }
   ],
   "source": [
    "print(data)\n",
    "print(data[len(data) - 1])\n",
    "gap = data[len(data) - 1] - data[0] + 30 # 30 is a random number\n",
    "data2 = data + gap\n",
    "print(data2[0])"
   ]
  },
  {
   "cell_type": "code",
   "execution_count": 14,
   "metadata": {},
   "outputs": [
    {
     "name": "stdout",
     "output_type": "stream",
     "text": [
      "28115130\n"
     ]
    }
   ],
   "source": [
    "data_list = [data, data2]\n",
    "test = np.concatenate(data_list, axis=0)\n",
    "print(len(test))"
   ]
  },
  {
   "cell_type": "code",
   "execution_count": 16,
   "metadata": {},
   "outputs": [],
   "source": [
    "data_len = len(data)\n",
    "iterations = 200 * 1000 * 1000 / data_len\n",
    "data_list = [data]\n",
    "for i in range(int(iterations)):\n",
    "    data_list.append(data + gap)\n",
    "res = np.concatenate(data_list, axis=0)\n",
    "res = res[0:200 * 1000 * 1000].astype('uint64')\n",
    "assert len(res) == 200 * 1000 * 1000\n",
    "pd.DataFrame(res).to_csv(\"ml_timestamp_200M.csv\", header=None, index=False)"
   ]
  },
  {
   "cell_type": "code",
   "execution_count": 18,
   "metadata": {},
   "outputs": [
    {
     "name": "stdout",
     "output_type": "stream",
     "text": [
      "0x15bc97a3a29\n",
      "0x15bd044b0ec\n"
     ]
    }
   ],
   "source": [
    "print(hex(res[0]))\n",
    "print(hex(res[len(res) - 1]))"
   ]
  },
  {
   "cell_type": "code",
   "execution_count": 3,
   "metadata": {},
   "outputs": [],
   "source": [
    "res = pd.read_csv('ml_timestamp_200M.csv', header=None).to_numpy().flatten().astype('uint64')\n"
   ]
  },
  {
   "cell_type": "code",
   "execution_count": 7,
   "metadata": {},
   "outputs": [
    {
     "name": "stdout",
     "output_type": "stream",
     "text": [
      "0x497a3a29\n"
     ]
    }
   ],
   "source": [
    "print(hex(res[0].astype('uint32') & 0x7fffffff))"
   ]
  },
  {
   "cell_type": "code",
   "execution_count": 8,
   "metadata": {},
   "outputs": [
    {
     "name": "stdout",
     "output_type": "stream",
     "text": [
      "200000000\n"
     ]
    }
   ],
   "source": [
    "print(len(res))"
   ]
  },
  {
   "cell_type": "code",
   "execution_count": 10,
   "metadata": {},
   "outputs": [
    {
     "ename": "KeyboardInterrupt",
     "evalue": "",
     "output_type": "error",
     "traceback": [
      "\u001b[0;31m---------------------------------------------------------------------------\u001b[0m",
      "\u001b[0;31mKeyboardInterrupt\u001b[0m                         Traceback (most recent call last)",
      "\u001b[1;32m/root/arrow-private/cpp/Learn-to-Compress/data/process_ml_ts.ipynb Cell 10\u001b[0m in \u001b[0;36m<cell line: 2>\u001b[0;34m()\u001b[0m\n\u001b[1;32m      <a href='vscode-notebook-cell://ssh-remote%2Bbj-dev-0906/root/arrow-private/cpp/Learn-to-Compress/data/process_ml_ts.ipynb#X12sdW50aXRsZWQ%3D?line=0'>1</a>\u001b[0m truncated_res \u001b[39m=\u001b[39m []\n\u001b[1;32m      <a href='vscode-notebook-cell://ssh-remote%2Bbj-dev-0906/root/arrow-private/cpp/Learn-to-Compress/data/process_ml_ts.ipynb#X12sdW50aXRsZWQ%3D?line=1'>2</a>\u001b[0m \u001b[39mfor\u001b[39;00m val \u001b[39min\u001b[39;00m res:\n\u001b[0;32m----> <a href='vscode-notebook-cell://ssh-remote%2Bbj-dev-0906/root/arrow-private/cpp/Learn-to-Compress/data/process_ml_ts.ipynb#X12sdW50aXRsZWQ%3D?line=2'>3</a>\u001b[0m     truncated_res\u001b[39m.\u001b[39mappend(val\u001b[39m.\u001b[39;49mastype(\u001b[39m'\u001b[39;49m\u001b[39muint32\u001b[39;49m\u001b[39m'\u001b[39;49m) \u001b[39m&\u001b[39;49m \u001b[39m0x7fffffff\u001b[39;49m)\n\u001b[1;32m      <a href='vscode-notebook-cell://ssh-remote%2Bbj-dev-0906/root/arrow-private/cpp/Learn-to-Compress/data/process_ml_ts.ipynb#X12sdW50aXRsZWQ%3D?line=3'>4</a>\u001b[0m truncated_res \u001b[39m=\u001b[39m np\u001b[39m.\u001b[39marray(truncated_res)\n\u001b[1;32m      <a href='vscode-notebook-cell://ssh-remote%2Bbj-dev-0906/root/arrow-private/cpp/Learn-to-Compress/data/process_ml_ts.ipynb#X12sdW50aXRsZWQ%3D?line=4'>5</a>\u001b[0m pd\u001b[39m.\u001b[39mDataFrame(truncated_res)\u001b[39m.\u001b[39mto_csv(\u001b[39m\"\u001b[39m\u001b[39mml_timestamp_200M_int32.csv\u001b[39m\u001b[39m\"\u001b[39m, header\u001b[39m=\u001b[39m\u001b[39mNone\u001b[39;00m, index\u001b[39m=\u001b[39m\u001b[39mFalse\u001b[39;00m)\n",
      "\u001b[0;31mKeyboardInterrupt\u001b[0m: "
     ]
    }
   ],
   "source": [
    "truncated_res = []\n",
    "for val in res:\n",
    "    truncated_res.append(val.astype('uint32') & 0x7fffffff)\n",
    "truncated_res = np.array(truncated_res)\n",
    "pd.DataFrame(truncated_res).to_csv(\"ml_timestamp_200M_int32.csv\", header=None, index=False)"
   ]
  },
  {
   "cell_type": "code",
   "execution_count": 4,
   "metadata": {},
   "outputs": [],
   "source": [
    "truncated_res = res & 0x7fffffff"
   ]
  },
  {
   "cell_type": "code",
   "execution_count": 5,
   "metadata": {},
   "outputs": [
    {
     "name": "stdout",
     "output_type": "stream",
     "text": [
      "0x497a3a29\n",
      "200000000\n"
     ]
    }
   ],
   "source": [
    "print(hex(truncated_res[0]))\n",
    "print(len(truncated_res))"
   ]
  },
  {
   "cell_type": "code",
   "execution_count": 6,
   "metadata": {},
   "outputs": [],
   "source": [
    "pd.DataFrame(truncated_res).to_csv(\"ml_timestamp_200M_int32.csv\", header=None, index=False)"
   ]
  },
  {
   "cell_type": "code",
   "execution_count": 7,
   "metadata": {},
   "outputs": [],
   "source": [
    "res = pd.read_csv('poisson_timestamps_EVENT_50000_SENSOR_2000_randomdie_OUTER_1000s_INNER_2ms_200M.csv', header=None).to_numpy().flatten().astype('uint64')\n"
   ]
  },
  {
   "cell_type": "code",
   "execution_count": 13,
   "metadata": {},
   "outputs": [
    {
     "name": "stdout",
     "output_type": "stream",
     "text": [
      "0xe8d49cb3d0\n",
      "0x1960f9bf766c363\n",
      "0xf766c363\n"
     ]
    }
   ],
   "source": [
    "print(hex(res[0].astype('uint64')))\n",
    "print(hex(res[len(res)-1].astype('uint64')))\n",
    "print(hex(res[len(res)-1].astype('uint32')))"
   ]
  },
  {
   "cell_type": "code",
   "execution_count": 11,
   "metadata": {},
   "outputs": [
    {
     "data": {
      "text/plain": [
       "[<matplotlib.lines.Line2D at 0x7fa2601192e0>]"
      ]
     },
     "execution_count": 11,
     "metadata": {},
     "output_type": "execute_result"
    },
    {
     "data": {
      "image/png": "[encoded data removed]",
      "text/plain": [
       "<Figure size 432x288 with 1 Axes>"
      ]
     },
     "metadata": {
      "needs_background": "light"
     },
     "output_type": "display_data"
    }
   ],
   "source": [
    "import matplotlib.pyplot as plt\n",
    "plt.plot(res)"
   ]
  },
  {
   "cell_type": "code",
   "execution_count": null,
   "metadata": {},
   "outputs": [],
   "source": []
  }
 ],
 "metadata": {
  "kernelspec": {
   "display_name": "Python 3.8.10 64-bit",
   "language": "python",
   "name": "python3"
  },
  "language_info": {
   "codemirror_mode": {
    "name": "ipython",
    "version": 3
   },
   "file_extension": ".py",
   "mimetype": "text/x-python",
   "name": "python",
   "nbconvert_exporter": "python",
   "pygments_lexer": "ipython3",
   "version": "3.8.10"
  },
  "orig_nbformat": 4,
  "vscode": {
   "interpreter": {
    "hash": "31f2aee4e71d21fbe5cf8b01ff0e069b9275f58929596ceb00d14d90e3e16cd6"
   }
  }
 },
 "nbformat": 4,
 "nbformat_minor": 2
}
